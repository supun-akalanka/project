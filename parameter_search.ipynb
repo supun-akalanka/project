{
 "cells": [
  {
   "cell_type": "code",
   "execution_count": null,
   "id": "376ae310",
   "metadata": {},
   "outputs": [],
   "source": [
    "def define_model(unit, dropout_rate):\n",
    "    model = Sequential()\n",
    "\n",
    "    model.add(LSTM(units = unit, return_sequences = True, input_shape=(train_data_x.shape[1], train_data_x.shape[2])))\n",
    "    model.add(Dropout(dropout_rate))\n",
    "\n",
    "    model.add(LSTM(units = unit, return_sequences = True))\n",
    "    model.add(Dropout(dropout_rate))\n",
    "\n",
    "    model.add(LSTM(units = unit, return_sequences = True))\n",
    "    model.add(Dropout(dropout_rate))\n",
    "\n",
    "    model.add(LSTM(units = unit))\n",
    "    model.add(Dropout(dropout_rate))\n",
    "\n",
    "    model.add(Dense(units = 1))\n",
    "\n",
    "\n",
    "    model.compile(optimizer = 'adam', loss = 'mean_squared_error')   \n",
    "    return model"
   ]
  },
  {
   "cell_type": "code",
   "execution_count": null,
   "id": "47d37c89",
   "metadata": {},
   "outputs": [],
   "source": [
    "from sklearn.experimental import enable_halving_search_cv\n",
    "from sklearn.model_selection import GridSearchCV, RandomizedSearchCV, HalvingGridSearchCV"
   ]
  },
  {
   "cell_type": "code",
   "execution_count": null,
   "id": "a2c2d8e1",
   "metadata": {},
   "outputs": [],
   "source": [
    "from keras.wrappers.scikit_learn import KerasRegressor\n",
    "model = KerasRegressor(build_fn=define_model,\n",
    "                       verbose=1)"
   ]
  },
  {
   "cell_type": "code",
   "execution_count": null,
   "id": "384c30a0",
   "metadata": {},
   "outputs": [],
   "source": [
    "unit = [16, 32, 64,]\n",
    "nb_epoch = [10, 20, 30, 40, 50, 60, ]\n",
    "batch_size = [50, 70, ]\n",
    "dropout_rate = [0.1, 0.2, 0.3]\n",
    "\n",
    "\n",
    "param_grid = dict( unit=unit, nb_epoch=nb_epoch, batch_size=batch_size, dropout_rate = dropout_rate)\n",
    "\n",
    "grid = GridSearchCV(estimator=model, scoring='accuracy', param_grid=param_grid, n_jobs=-1, cv=3)\n",
    "grid_result = grid.fit(train_data_x, train_data_y)"
   ]
  }
 ],
 "metadata": {
  "kernelspec": {
   "display_name": "Python 3 (ipykernel)",
   "language": "python",
   "name": "python3"
  },
  "language_info": {
   "codemirror_mode": {
    "name": "ipython",
    "version": 3
   },
   "file_extension": ".py",
   "mimetype": "text/x-python",
   "name": "python",
   "nbconvert_exporter": "python",
   "pygments_lexer": "ipython3",
   "version": "3.10.9"
  }
 },
 "nbformat": 4,
 "nbformat_minor": 5
}
