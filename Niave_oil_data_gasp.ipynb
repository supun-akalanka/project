{
 "cells": [
  {
   "cell_type": "code",
   "execution_count": 1,
   "id": "7981e8de",
   "metadata": {},
   "outputs": [
    {
     "name": "stderr",
     "output_type": "stream",
     "text": [
      "C:\\Users\\User\\anaconda\\lib\\site-packages\\statsforecast\\core.py:21: TqdmExperimentalWarning: Using `tqdm.autonotebook.tqdm` in notebook mode. Use `tqdm.tqdm` instead to force console mode (e.g. in jupyter console)\n",
      "  from tqdm.autonotebook import tqdm\n"
     ]
    }
   ],
   "source": [
    "import pandas as pd\n",
    "from datetime import date\n",
    "import math\n",
    "import numpy as np\n",
    "import matplotlib.pyplot as plt\n",
    "import seaborn as sb\n",
    "from sklearn.preprocessing import MinMaxScaler\n",
    "import keras\n",
    "from keras.models import Sequential\n",
    "from keras.layers import Dense, Dropout,LSTM,Activation\n",
    "import tensorflow as tf\n",
    "from statsforecast import StatsForecast\n",
    "from statsforecast.models import Naive, SeasonalNaive, WindowAverage, SeasonalWindowAverage\n",
    "import sktime as sktime\n",
    "from sktime.utils.plotting import plot_series"
   ]
  },
  {
   "cell_type": "code",
   "execution_count": 2,
   "id": "9a9f3a88",
   "metadata": {},
   "outputs": [],
   "source": [
    "df = pd.read_csv('mgasoil.txt', sep=' ')"
   ]
  },
  {
   "cell_type": "code",
   "execution_count": 3,
   "id": "f2e5fbad",
   "metadata": {},
   "outputs": [
    {
     "data": {
      "text/html": [
       "<div>\n",
       "<style scoped>\n",
       "    .dataframe tbody tr th:only-of-type {\n",
       "        vertical-align: middle;\n",
       "    }\n",
       "\n",
       "    .dataframe tbody tr th {\n",
       "        vertical-align: top;\n",
       "    }\n",
       "\n",
       "    .dataframe thead th {\n",
       "        text-align: right;\n",
       "    }\n",
       "</style>\n",
       "<table border=\"1\" class=\"dataframe\">\n",
       "  <thead>\n",
       "    <tr style=\"text-align: right;\">\n",
       "      <th></th>\n",
       "      <th>year</th>\n",
       "      <th>mon</th>\n",
       "      <th>Greg</th>\n",
       "      <th>hoil</th>\n",
       "      <th>oilp</th>\n",
       "      <th>gasp</th>\n",
       "    </tr>\n",
       "  </thead>\n",
       "  <tbody>\n",
       "    <tr>\n",
       "      <th>0</th>\n",
       "      <td>1993</td>\n",
       "      <td>11</td>\n",
       "      <td>1.066</td>\n",
       "      <td>0.502</td>\n",
       "      <td>16.699</td>\n",
       "      <td>2.32</td>\n",
       "    </tr>\n",
       "    <tr>\n",
       "      <th>1</th>\n",
       "      <td>1993</td>\n",
       "      <td>12</td>\n",
       "      <td>1.014</td>\n",
       "      <td>0.435</td>\n",
       "      <td>14.510</td>\n",
       "      <td>2.09</td>\n",
       "    </tr>\n",
       "    <tr>\n",
       "      <th>2</th>\n",
       "      <td>1994</td>\n",
       "      <td>1</td>\n",
       "      <td>0.998</td>\n",
       "      <td>0.499</td>\n",
       "      <td>15.000</td>\n",
       "      <td>2.41</td>\n",
       "    </tr>\n",
       "    <tr>\n",
       "      <th>3</th>\n",
       "      <td>1994</td>\n",
       "      <td>2</td>\n",
       "      <td>1.009</td>\n",
       "      <td>0.557</td>\n",
       "      <td>14.780</td>\n",
       "      <td>2.59</td>\n",
       "    </tr>\n",
       "    <tr>\n",
       "      <th>4</th>\n",
       "      <td>1994</td>\n",
       "      <td>3</td>\n",
       "      <td>1.008</td>\n",
       "      <td>0.492</td>\n",
       "      <td>14.660</td>\n",
       "      <td>2.08</td>\n",
       "    </tr>\n",
       "  </tbody>\n",
       "</table>\n",
       "</div>"
      ],
      "text/plain": [
       "   year  mon   Greg   hoil    oilp  gasp\n",
       "0  1993   11  1.066  0.502  16.699  2.32\n",
       "1  1993   12  1.014  0.435  14.510  2.09\n",
       "2  1994    1  0.998  0.499  15.000  2.41\n",
       "3  1994    2  1.009  0.557  14.780  2.59\n",
       "4  1994    3  1.008  0.492  14.660  2.08"
      ]
     },
     "execution_count": 3,
     "metadata": {},
     "output_type": "execute_result"
    }
   ],
   "source": [
    "df.head()"
   ]
  },
  {
   "cell_type": "code",
   "execution_count": 4,
   "id": "63cc50ab",
   "metadata": {},
   "outputs": [],
   "source": [
    "df['Date'] = df['year'].astype(str)+' /'+df['mon'].astype(str)"
   ]
  },
  {
   "cell_type": "code",
   "execution_count": 5,
   "id": "399e5b73",
   "metadata": {},
   "outputs": [],
   "source": [
    "df_new = df[['Date', 'gasp']]"
   ]
  },
  {
   "cell_type": "code",
   "execution_count": 6,
   "id": "57c7806c",
   "metadata": {},
   "outputs": [
    {
     "data": {
      "text/html": [
       "<div>\n",
       "<style scoped>\n",
       "    .dataframe tbody tr th:only-of-type {\n",
       "        vertical-align: middle;\n",
       "    }\n",
       "\n",
       "    .dataframe tbody tr th {\n",
       "        vertical-align: top;\n",
       "    }\n",
       "\n",
       "    .dataframe thead th {\n",
       "        text-align: right;\n",
       "    }\n",
       "</style>\n",
       "<table border=\"1\" class=\"dataframe\">\n",
       "  <thead>\n",
       "    <tr style=\"text-align: right;\">\n",
       "      <th></th>\n",
       "      <th>gasp</th>\n",
       "    </tr>\n",
       "    <tr>\n",
       "      <th>Date</th>\n",
       "      <th></th>\n",
       "    </tr>\n",
       "  </thead>\n",
       "  <tbody>\n",
       "    <tr>\n",
       "      <th>1993 /11</th>\n",
       "      <td>2.32</td>\n",
       "    </tr>\n",
       "    <tr>\n",
       "      <th>1993 /12</th>\n",
       "      <td>2.09</td>\n",
       "    </tr>\n",
       "    <tr>\n",
       "      <th>1994 /1</th>\n",
       "      <td>2.41</td>\n",
       "    </tr>\n",
       "    <tr>\n",
       "      <th>1994 /2</th>\n",
       "      <td>2.59</td>\n",
       "    </tr>\n",
       "    <tr>\n",
       "      <th>1994 /3</th>\n",
       "      <td>2.08</td>\n",
       "    </tr>\n",
       "    <tr>\n",
       "      <th>...</th>\n",
       "      <td>...</td>\n",
       "    </tr>\n",
       "    <tr>\n",
       "      <th>2012 /4</th>\n",
       "      <td>1.95</td>\n",
       "    </tr>\n",
       "    <tr>\n",
       "      <th>2012 /5</th>\n",
       "      <td>2.43</td>\n",
       "    </tr>\n",
       "    <tr>\n",
       "      <th>2012 /6</th>\n",
       "      <td>2.46</td>\n",
       "    </tr>\n",
       "    <tr>\n",
       "      <th>2012 /7</th>\n",
       "      <td>2.96</td>\n",
       "    </tr>\n",
       "    <tr>\n",
       "      <th>2012 /8</th>\n",
       "      <td>2.84</td>\n",
       "    </tr>\n",
       "  </tbody>\n",
       "</table>\n",
       "<p>226 rows × 1 columns</p>\n",
       "</div>"
      ],
      "text/plain": [
       "          gasp\n",
       "Date          \n",
       "1993 /11  2.32\n",
       "1993 /12  2.09\n",
       "1994 /1   2.41\n",
       "1994 /2   2.59\n",
       "1994 /3   2.08\n",
       "...        ...\n",
       "2012 /4   1.95\n",
       "2012 /5   2.43\n",
       "2012 /6   2.46\n",
       "2012 /7   2.96\n",
       "2012 /8   2.84\n",
       "\n",
       "[226 rows x 1 columns]"
      ]
     },
     "execution_count": 6,
     "metadata": {},
     "output_type": "execute_result"
    }
   ],
   "source": [
    "df_new.set_index('Date', inplace=True)\n",
    "df_new"
   ]
  },
  {
   "cell_type": "code",
   "execution_count": 8,
   "id": "84e6a34b",
   "metadata": {},
   "outputs": [],
   "source": [
    "train_values = df_new.gasp.values.reshape(-1,1)\n"
   ]
  },
  {
   "cell_type": "code",
   "execution_count": 9,
   "id": "e313ac83",
   "metadata": {},
   "outputs": [
    {
     "data": {
      "text/plain": [
       "(46, 1)"
      ]
     },
     "execution_count": 9,
     "metadata": {},
     "output_type": "execute_result"
    }
   ],
   "source": [
    "train_size = int(len(train_values)*0.8)\n",
    "test_size = len(train_values) - train_size\n",
    "train_data = train_values[:train_size]\n",
    "test_data =  train_values[train_size:]\n",
    "test_data.shape"
   ]
  },
  {
   "cell_type": "code",
   "execution_count": 10,
   "id": "1702b06d",
   "metadata": {},
   "outputs": [
    {
     "data": {
      "text/html": [
       "<style>#sk-8b4ec458-13fb-4aa0-9d81-8676a3103256 {color: black;background-color: white;}#sk-8b4ec458-13fb-4aa0-9d81-8676a3103256 pre{padding: 0;}#sk-8b4ec458-13fb-4aa0-9d81-8676a3103256 div.sk-toggleable {background-color: white;}#sk-8b4ec458-13fb-4aa0-9d81-8676a3103256 label.sk-toggleable__label {cursor: pointer;display: block;width: 100%;margin-bottom: 0;padding: 0.3em;box-sizing: border-box;text-align: center;}#sk-8b4ec458-13fb-4aa0-9d81-8676a3103256 label.sk-toggleable__label-arrow:before {content: \"▸\";float: left;margin-right: 0.25em;color: #696969;}#sk-8b4ec458-13fb-4aa0-9d81-8676a3103256 label.sk-toggleable__label-arrow:hover:before {color: black;}#sk-8b4ec458-13fb-4aa0-9d81-8676a3103256 div.sk-estimator:hover label.sk-toggleable__label-arrow:before {color: black;}#sk-8b4ec458-13fb-4aa0-9d81-8676a3103256 div.sk-toggleable__content {max-height: 0;max-width: 0;overflow: hidden;text-align: left;background-color: #f0f8ff;}#sk-8b4ec458-13fb-4aa0-9d81-8676a3103256 div.sk-toggleable__content pre {margin: 0.2em;color: black;border-radius: 0.25em;background-color: #f0f8ff;}#sk-8b4ec458-13fb-4aa0-9d81-8676a3103256 input.sk-toggleable__control:checked~div.sk-toggleable__content {max-height: 200px;max-width: 100%;overflow: auto;}#sk-8b4ec458-13fb-4aa0-9d81-8676a3103256 input.sk-toggleable__control:checked~label.sk-toggleable__label-arrow:before {content: \"▾\";}#sk-8b4ec458-13fb-4aa0-9d81-8676a3103256 div.sk-estimator input.sk-toggleable__control:checked~label.sk-toggleable__label {background-color: #d4ebff;}#sk-8b4ec458-13fb-4aa0-9d81-8676a3103256 div.sk-label input.sk-toggleable__control:checked~label.sk-toggleable__label {background-color: #d4ebff;}#sk-8b4ec458-13fb-4aa0-9d81-8676a3103256 input.sk-hidden--visually {border: 0;clip: rect(1px 1px 1px 1px);clip: rect(1px, 1px, 1px, 1px);height: 1px;margin: -1px;overflow: hidden;padding: 0;position: absolute;width: 1px;}#sk-8b4ec458-13fb-4aa0-9d81-8676a3103256 div.sk-estimator {font-family: monospace;background-color: #f0f8ff;border: 1px dotted black;border-radius: 0.25em;box-sizing: border-box;margin-bottom: 0.5em;}#sk-8b4ec458-13fb-4aa0-9d81-8676a3103256 div.sk-estimator:hover {background-color: #d4ebff;}#sk-8b4ec458-13fb-4aa0-9d81-8676a3103256 div.sk-parallel-item::after {content: \"\";width: 100%;border-bottom: 1px solid gray;flex-grow: 1;}#sk-8b4ec458-13fb-4aa0-9d81-8676a3103256 div.sk-label:hover label.sk-toggleable__label {background-color: #d4ebff;}#sk-8b4ec458-13fb-4aa0-9d81-8676a3103256 div.sk-serial::before {content: \"\";position: absolute;border-left: 1px solid gray;box-sizing: border-box;top: 2em;bottom: 0;left: 50%;}#sk-8b4ec458-13fb-4aa0-9d81-8676a3103256 div.sk-serial {display: flex;flex-direction: column;align-items: center;background-color: white;padding-right: 0.2em;padding-left: 0.2em;}#sk-8b4ec458-13fb-4aa0-9d81-8676a3103256 div.sk-item {z-index: 1;}#sk-8b4ec458-13fb-4aa0-9d81-8676a3103256 div.sk-parallel {display: flex;align-items: stretch;justify-content: center;background-color: white;}#sk-8b4ec458-13fb-4aa0-9d81-8676a3103256 div.sk-parallel::before {content: \"\";position: absolute;border-left: 1px solid gray;box-sizing: border-box;top: 2em;bottom: 0;left: 50%;}#sk-8b4ec458-13fb-4aa0-9d81-8676a3103256 div.sk-parallel-item {display: flex;flex-direction: column;position: relative;background-color: white;}#sk-8b4ec458-13fb-4aa0-9d81-8676a3103256 div.sk-parallel-item:first-child::after {align-self: flex-end;width: 50%;}#sk-8b4ec458-13fb-4aa0-9d81-8676a3103256 div.sk-parallel-item:last-child::after {align-self: flex-start;width: 50%;}#sk-8b4ec458-13fb-4aa0-9d81-8676a3103256 div.sk-parallel-item:only-child::after {width: 0;}#sk-8b4ec458-13fb-4aa0-9d81-8676a3103256 div.sk-dashed-wrapped {border: 1px dashed gray;margin: 0 0.4em 0.5em 0.4em;box-sizing: border-box;padding-bottom: 0.4em;background-color: white;position: relative;}#sk-8b4ec458-13fb-4aa0-9d81-8676a3103256 div.sk-label label {font-family: monospace;font-weight: bold;background-color: white;display: inline-block;line-height: 1.2em;}#sk-8b4ec458-13fb-4aa0-9d81-8676a3103256 div.sk-label-container {position: relative;z-index: 2;text-align: center;}#sk-8b4ec458-13fb-4aa0-9d81-8676a3103256 div.sk-container {/* jupyter's `normalize.less` sets `[hidden] { display: none; }` but bootstrap.min.css set `[hidden] { display: none !important; }` so we also need the `!important` here to be able to override the default hidden behavior on the sphinx rendered scikit-learn.org. See: https://github.com/scikit-learn/scikit-learn/issues/21755 */display: inline-block !important;position: relative;}#sk-8b4ec458-13fb-4aa0-9d81-8676a3103256 div.sk-text-repr-fallback {display: none;}</style><div id='sk-8b4ec458-13fb-4aa0-9d81-8676a3103256' class=\"sk-top-container\"><div class=\"sk-text-repr-fallback\"><pre>NaiveForecaster(sp=12)</pre><b>Please rerun this cell to show the HTML repr or trust the notebook.</b></div><div class=\"sk-container\" hidden><div class='sk-item'><div class=\"sk-estimator sk-toggleable\"><input class=\"sk-toggleable__control sk-hidden--visually\" id=UUID('60dafd61-129d-473f-85a7-58133589ca40') type=\"checkbox\" checked><label for=UUID('60dafd61-129d-473f-85a7-58133589ca40') class='sk-toggleable__label sk-toggleable__label-arrow'>NaiveForecaster</label><div class=\"sk-toggleable__content\"><pre>NaiveForecaster(sp=12)</pre></div></div></div></div></div>"
      ],
      "text/plain": [
       "NaiveForecaster(sp=12)"
      ]
     },
     "execution_count": 10,
     "metadata": {},
     "output_type": "execute_result"
    }
   ],
   "source": [
    "from sktime.forecasting.naive import NaiveForecaster\n",
    "y = train_data\n",
    "\n",
    "forecaster = NaiveForecaster(strategy=\"last\",sp=12)\n",
    "forecaster.fit(y)"
   ]
  },
  {
   "cell_type": "code",
   "execution_count": 11,
   "id": "b984ec8a",
   "metadata": {},
   "outputs": [],
   "source": [
    "fh = np.arange(1,47)"
   ]
  },
  {
   "cell_type": "code",
   "execution_count": 12,
   "id": "ab543637",
   "metadata": {},
   "outputs": [
    {
     "data": {
      "text/plain": [
       "(46, 1)"
      ]
     },
     "execution_count": 12,
     "metadata": {},
     "output_type": "execute_result"
    }
   ],
   "source": [
    "y_pred = forecaster.predict(fh=fh)\n",
    "y_pred.shape"
   ]
  },
  {
   "cell_type": "code",
   "execution_count": 13,
   "id": "07b0af0b",
   "metadata": {},
   "outputs": [
    {
     "data": {
      "text/plain": [
       "5.609576632866334"
      ]
     },
     "execution_count": 13,
     "metadata": {},
     "output_type": "execute_result"
    }
   ],
   "source": [
    "from sklearn.metrics import mean_squared_error\n",
    "mse = mean_squared_error(test_data, y_pred)\n",
    "\n",
    "rmse = np.sqrt(mse)\n",
    "rmse"
   ]
  },
  {
   "cell_type": "code",
   "execution_count": 14,
   "id": "5e0f7b72",
   "metadata": {},
   "outputs": [
    {
     "data": {
      "text/plain": [
       "(<Figure size 1600x400 with 1 Axes>, <Axes: >)"
      ]
     },
     "execution_count": 14,
     "metadata": {},
     "output_type": "execute_result"
    },
    {
     "data": {
      "image/png": "[encoded data removed]",
      "text/plain": [
       "<Figure size 1600x400 with 1 Axes>"
      ]
     },
     "metadata": {},
     "output_type": "display_data"
    }
   ],
   "source": [
    "df_test = pd.DataFrame(test_data)\n",
    "df_y_pred =  pd.DataFrame(y_pred)\n",
    "\n",
    "\n",
    "plot_series(df_test, df_y_pred, labels=[\"y\", \"y_pred\"])"
   ]
  }
 ],
 "metadata": {
  "kernelspec": {
   "display_name": "Python 3 (ipykernel)",
   "language": "python",
   "name": "python3"
  },
  "language_info": {
   "codemirror_mode": {
    "name": "ipython",
    "version": 3
   },
   "file_extension": ".py",
   "mimetype": "text/x-python",
   "name": "python",
   "nbconvert_exporter": "python",
   "pygments_lexer": "ipython3",
   "version": "3.10.9"
  }
 },
 "nbformat": 4,
 "nbformat_minor": 5
}
