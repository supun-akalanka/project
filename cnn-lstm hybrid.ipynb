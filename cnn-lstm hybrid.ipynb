{
 "cells": [
  {
   "cell_type": "code",
   "execution_count": null,
   "id": "9a329b8d",
   "metadata": {},
   "outputs": [],
   "source": [
    "#CNN LSTM model \n",
    "model = Sequential()\n",
    "\n",
    "model.add(Conv1D(filters=512, kernel_size=3, activation='relu', input_shape=(train_data_x.shape[1], train_data_x.shape[2])))\n",
    "model.add(Conv1D(filters=256, kernel_size=3, activation='relu'))\n",
    "model.add(MaxPooling1D(pool_size=2))\n",
    "model.add(Flatten())\n",
    "model.add(RepeatVector(30))\n",
    "\n",
    "model.add(LSTM(units = 256, return_sequences = True))\n",
    "model.add(Dropout(0.2))\n",
    "\n",
    "#model.add(LSTM(units = 256, return_sequences = True))\n",
    "#model.add(Dropout(0.2))\n",
    "\n",
    "model.add(LSTM(units = 256, return_sequences = True))\n",
    "model.add(Dropout(0.2))\n",
    "\n",
    "model.add(LSTM(units = 256))\n",
    "model.add(Dropout(0.2))\n",
    "\n",
    "model.add(Dense(units = 1))\n",
    "\n",
    "\n",
    "model.compile(optimizer = 'adam', loss = 'mean_squared_error') "
   ]
  }
 ],
 "metadata": {
  "kernelspec": {
   "display_name": "Python 3 (ipykernel)",
   "language": "python",
   "name": "python3"
  },
  "language_info": {
   "codemirror_mode": {
    "name": "ipython",
    "version": 3
   },
   "file_extension": ".py",
   "mimetype": "text/x-python",
   "name": "python",
   "nbconvert_exporter": "python",
   "pygments_lexer": "ipython3",
   "version": "3.10.9"
  }
 },
 "nbformat": 4,
 "nbformat_minor": 5
}
